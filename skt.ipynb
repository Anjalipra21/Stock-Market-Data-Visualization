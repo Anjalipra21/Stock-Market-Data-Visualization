{
 "cells": [
  {
   "cell_type": "code",
   "execution_count": 1,
   "metadata": {},
   "outputs": [],
   "source": [
    "import pandas as pd \n",
    "#import numpy as np \n",
    "import matplotlib.pyplot as plt \n",
    "import datetime\n",
    "#import seaborn as sns \n",
    "import yfinance as yf \n",
    "%matplotlib inline \n"
   ]
  },
  {
   "cell_type": "code",
   "execution_count": null,
   "metadata": {},
   "outputs": [],
   "source": [
    "#Collection of Data \n",
    "data=yf.Ticker(\"GOOG\") \n",
    "df=data.history(start=\"2020-1-1\",end=\"2023-11-27\") \n",
    "df6=data.history(start=\"2020-1-1\",end=\"2020-1-10\") \n",
    "df \n",
    "\t \n",
    "\t\n",
    "\n",
    " \n",
    "\n",
    " \n",
    "\t\n",
    "\n",
    " \n",
    "\t \n",
    "\t\n"
   ]
  },
  {
   "cell_type": "code",
   "execution_count": null,
   "metadata": {},
   "outputs": [],
   "source": [
    "# Stock Price Visualization \n",
    "\t \n",
    "df[\"Open\"].plot(label=\"GOOGLE Open Price\" , figsize=(15,7)) \n",
    "df[\"Close\"].plot(label=\"GOOGLE Close Price\") \n",
    "df[\"High\"].plot(label=\"GOOGLE High Price\") \n",
    "df[\"Low\"].plot(label=\"GOOGLE Low Price\") \n",
    "plt.legend() \n",
    "plt.title(\"GOOGLE Stock price\") \n",
    "plt.ylabel(\"Stock Price\") \n",
    "plt.show() \n",
    "\t \n",
    "df6[\"Open\"].plot(label=\"GOOGLE Open Price\" , figsize=(15,7)) \n",
    "df6[\"Close\"].plot(label=\"GOOGLE Close Price\") \n",
    "df6[\"High\"].plot(label=\"GOOGLE High Price\") \n",
    "df6[\"Low\"].plot(label=\"GOOGLE Low Price\") \n",
    "plt.legend() \n",
    "plt.title(\"GOOGLE Stock price\") \n",
    "plt.ylabel(\"Stock Price\") \n",
    "plt.show() \n",
    "\t "
   ]
  },
  {
   "cell_type": "code",
   "execution_count": null,
   "metadata": {},
   "outputs": [],
   "source": [
    "# Volume Traded Visualization \n",
    "df['Volume'].plot(figsize=(17,6)) \n",
    "plt.title(\"Volume Traded By Google\") \n",
    "tesle=yf.Ticker(\"TSLA\") \n",
    "ford=yf.Ticker(\"F\") \n",
    "gm=yf.Ticker(\"GM\") \n",
    "df=tesle.history(start=\"2012-01-01\",end=\"2023-11-25\") \n",
    "df1=ford.history(start=\"2012-01-01\",end=\"2023-11-25\") \n",
    "df2=gm.history(start=\"2012-01-01\",end=\"2023-11-25\") \n",
    "df[\"Open\"].plot(label=\"Tesla\",figsize=(17,6)) \n",
    "df2[\"Open\"].plot(label=\"GM\") \n",
    "df1[\"Open\"].plot(label=\"Ford\") \n",
    "plt.ylabel(\"Stock Price\") \n",
    "plt.title(\"Stock Prices of Tesla,GM and Ford\") \n",
    "plt.legend() \n",
    "df[\"Open\"].plot(label=\"Tesla\",figsize=(17,6),kind=\"area\") \n",
    "df2[\"Open\"].plot(label=\"GM\",kind=\"area\") \n",
    "df1[\"Open\"].plot(label=\"Ford\",kind=\"area\") \n",
    " \n",
    "plt.ylabel(\"Stock Price\") \n",
    "plt.title(\"Stock Prices of Tesla,GM and Ford\") \n",
    "plt.legend() \n",
    "  \n",
    "df[\"Open\"].hist(label=\"Tesla\",figsize=(17,6),bins=200) \n",
    "df2[\"Open\"].hist(label=\"GM\",bins=200) \n",
    "df1[\"Open\"].hist(label=\"Ford\",bins=300) \n",
    " \n",
    "plt.ylabel(\"Stock Price\") \n",
    "plt.xlabel(\"Date\") \n",
    "plt.title(\"Stock Prices of Tesla,GM and Ford\") \n",
    "plt.legend() \n",
    "\t \n",
    " \n",
    " "
   ]
  },
  {
   "cell_type": "code",
   "execution_count": null,
   "metadata": {},
   "outputs": [],
   "source": [
    "\n",
    "# Volumne Traded & Interpretations \n",
    "\t \n",
    "df['Volume'].plot(label=\"Tesla\" ,figsize=(15,7)) \n",
    "df2['Volume'].plot(label=\"GM\") \n",
    "df1['Volume'].plot(label=\"Ford\") \n",
    "plt.ylabel(\"Volume Traded\") \n",
    "plt.legend() \n",
    "\t \n",
    "df['Volume'].plot(label=\"Tesla\" ,figsize=(15,9),kind=\"area\") \n",
    "df2['Volume'].plot(label=\"GM\",kind=\"area\") \n",
    "df1['Volume'].plot(label=\"Ford\",kind=\"area\") \n",
    "plt.ylabel(\"Volume Traded\") \n",
    "plt.legend() \n",
    " "
   ]
  },
  {
   "cell_type": "code",
   "execution_count": null,
   "metadata": {},
   "outputs": [],
   "source": [
    "# MARKET CAP \n",
    "df['Total Traded'] = df['Open'] * df['Volume'] \n",
    "df \n",
    "df2['Total Traded'] = df2['Open'] * df2['Volume'] \n",
    "df2  \n",
    "df1['Total Traded'] = df1['Open'] * df1['Volume'] \n",
    "df1  \n",
    "df['Total Traded'].hist(label=\"Tasla\" , figsize=(17,5),bins=100) \n",
    "df2['Total Traded'].hist(label=\"GM\",bins=100) \n",
    "df1['Total Traded'].hist(label=\"Ford\",bins=100) \n",
    "plt.ylabel(\"Total Traded\") \n",
    "plt.legend() \n",
    "df['Total Traded'].plot(label=\"Tasla\" , figsize=(17,5),kind=\"area\") \n",
    "df2['Total Traded'].plot(label=\"GM\",kind=\"area\") \n",
    "df1['Total Traded'].plot(label=\"Ford\",kind=\"area\") \n",
    "plt.ylabel(\"Total Traded\") \n",
    "plt.legend() \n",
    " "
   ]
  }
 ],
 "metadata": {
  "kernelspec": {
   "display_name": "myenv",
   "language": "python",
   "name": "python3"
  },
  "language_info": {
   "codemirror_mode": {
    "name": "ipython",
    "version": 3
   },
   "file_extension": ".py",
   "mimetype": "text/x-python",
   "name": "python",
   "nbconvert_exporter": "python",
   "pygments_lexer": "ipython3",
   "version": "3.11.5"
  }
 },
 "nbformat": 4,
 "nbformat_minor": 2
}
